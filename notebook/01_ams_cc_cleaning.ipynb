{
 "cells": [
  {
   "cell_type": "code",
   "execution_count": 1,
   "id": "387969a9-ea94-480a-861b-9c9ba033cd56",
   "metadata": {},
   "outputs": [],
   "source": [
    "import pandas as pd\n",
    "import numpy as np\n",
    "import geopandas as gpd\n",
    "import seaborn as sns\n",
    "import matplotlib.pyplot as plt\n",
    "from geodatasets import get_path\n",
    "from function_06 import load_data_with_delimiters\n",
    "from shapely.geometry import Point\n",
    "import folium\n",
    "from folium.plugins import HeatMap\n"
   ]
  },
  {
   "cell_type": "code",
   "execution_count": 2,
   "id": "9d28b6ec-3cbb-4069-88b6-1ed3f026ed56",
   "metadata": {},
   "outputs": [],
   "source": [
    "# Read all datas\n",
    "file_info = \"../data/raw/ongevallen.txt\"\n",
    "df_accidents =pd.read_csv(file_info, low_memory=False)\n",
    "\n",
    "file_info2 = \"../data/raw/partijen.txt\"\n",
    "df_A=pd.read_csv(file_info2, low_memory=False)\n",
    "\n",
    "file_info3 = \"../data/raw/wegvakgeografie_01012024.csv\"\n",
    "wegvak_df=pd.read_csv(file_info3, low_memory=False)"
   ]
  },
  {
   "cell_type": "code",
   "execution_count": 5,
   "id": "122a234d-e9f8-4ffb-9693-b97fc5ec2eea",
   "metadata": {},
   "outputs": [
    {
     "data": {
      "text/plain": [
       "((1193484, 66),\n",
       " VKL_NUMMER          0\n",
       " REGNUMMER      197529\n",
       " PVOPGEM       1166161\n",
       " DATUM_VKL     1193484\n",
       " DAG_CODE      1193484\n",
       "                ...   \n",
       " DISTRCODE      964941\n",
       " DISTRNAAM      964941\n",
       " DAGTYPE       1193484\n",
       " IND_ALC       1193484\n",
       " WEEKNR        1193484\n",
       " Length: 66, dtype: int64,\n",
       " Index(['VKL_NUMMER', 'REGNUMMER', 'PVOPGEM', 'DATUM_VKL', 'DAG_CODE',\n",
       "        'MND_NUMMER', 'JAAR_VKL', 'TIJDSTIP', 'UUR', 'DDL_ID', 'AP3_CODE',\n",
       "        'AP4_CODE', 'AP5_CODE', 'ANTL_SLA', 'ANTL_DOD', 'ANTL_GZH', 'ANTL_SEH',\n",
       "        'ANTL_GOV', 'ANTL_PTJ', 'ANTL_TDT', 'MNE_CODE', 'AOL_ID', 'NIVEAUKOP',\n",
       "        'WSE_ID', 'WSE_AN', 'BEBKOM', 'MAXSNELHD', 'WVL_ID', 'WVG_ID', 'WVG_AN',\n",
       "        'WDK_ID', 'WDK_AN', 'LGD_ID', 'ZAD_ID', 'WGD_CODE_1', 'WGD_CODE_2',\n",
       "        'BZD_ID_VM1', 'BZD_ID_VM2', 'BZD_ID_VM3', 'BZD_VM_AN', 'BZD_ID_IF1',\n",
       "        'BZD_ID_IF2', 'BZD_ID_IF3', 'BZD_IF_AN', 'BZD_ID_TA1', 'BZD_ID_TA2',\n",
       "        'BZD_ID_TA3', 'BZD_TA_AN', 'JTE_ID', 'WVK_ID', 'HECTOMETER', 'FK_VELD5',\n",
       "        'HUISNUMMER', 'GME_ID', 'GME_NAAM', 'PVE_CODE', 'PVE_NAAM', 'KDD_NAAM',\n",
       "        'PLT_NAAM', 'DIENSTCODE', 'DIENSTNAAM', 'DISTRCODE', 'DISTRNAAM',\n",
       "        'DAGTYPE', 'IND_ALC', 'WEEKNR'],\n",
       "       dtype='object'))"
      ]
     },
     "execution_count": 5,
     "metadata": {},
     "output_type": "execute_result"
    }
   ],
   "source": [
    "df_accidents.shape, df_accidents.isnull().sum(), df_accidents.columns"
   ]
  },
  {
   "cell_type": "code",
   "execution_count": 7,
   "id": "7890d038-306e-4255-a7d4-a7729e300518",
   "metadata": {},
   "outputs": [
    {
     "data": {
      "text/plain": [
       "array([nan])"
      ]
     },
     "execution_count": 7,
     "metadata": {},
     "output_type": "execute_result"
    }
   ],
   "source": [
    "df_accidents['WEEKNR'].unique()"
   ]
  },
  {
   "cell_type": "code",
   "execution_count": 9,
   "id": "bd21f0e1-72df-4276-b189-c994a8e87091",
   "metadata": {},
   "outputs": [],
   "source": [
    "relevant_columns = [\n",
    "    'VKL_NUMMER', 'TIJDSTIP', 'UUR', 'JAAR_VKL',\n",
    "    'ANTL_DOD', 'ANTL_GZH', 'ANTL_SEH',\n",
    "    'WVK_ID', 'GME_NAAM', 'PLT_NAAM',\n",
    "    'BZD_VM_AN', 'BZD_IF_AN', 'BZD_TA_AN'\n",
    "]\n",
    "\n",
    "# Keep only those columns\n",
    "df_accidents = df_accidents[relevant_columns]\n",
    "\n",
    "# Drop rows where critical identifiers or keys are missing\n",
    "df_accidents = df_accidents.dropna(subset=['VKL_NUMMER', 'WVK_ID'])\n"
   ]
  },
  {
   "cell_type": "code",
   "execution_count": 11,
   "id": "1fffa72c-633b-4038-911f-9e3214842066",
   "metadata": {},
   "outputs": [
    {
     "data": {
      "text/plain": [
       "(864510, 13)"
      ]
     },
     "execution_count": 11,
     "metadata": {},
     "output_type": "execute_result"
    }
   ],
   "source": [
    "df_accidents.shape"
   ]
  },
  {
   "cell_type": "code",
   "execution_count": 15,
   "id": "2974b354-ab5e-4c56-97cd-2f1183616dbe",
   "metadata": {},
   "outputs": [
    {
     "data": {
      "text/plain": [
       "((1801034, 41),\n",
       "      PTJ_ID   VKL_NUMMER  NUMMER  DOORRIJDER  OTE_ID OTE_AN  NTT_CODE_V  \\\n",
       " 0  25909704  20140010014       1         NaN    11.0    NaN         NaN   \n",
       " 1  25909705  20140010014       2         NaN    64.0    NaN         NaN   \n",
       " 2  25909706  20140010030       1         NaN     1.0    NaN         NaN   \n",
       " 3  25909707  20140010030       2         NaN    61.0    NaN         NaN   \n",
       " 4  25909708  20140010030       3         NaN    83.0    NaN         NaN   \n",
       " \n",
       "    VTGVERZ  SCHADE  GETRAANH  ...  AGT_TYPE  AGT_ID_1  AGT_ID_2  BWG_ID_1  \\\n",
       " 0      NaN     NaN       NaN  ...         V      12.0       NaN      10.0   \n",
       " 1      NaN     NaN       NaN  ...         V      12.0       NaN      10.0   \n",
       " 2      NaN     NaN       NaN  ...         V      15.0       NaN      85.0   \n",
       " 3      NaN     NaN       NaN  ...         V      12.0       NaN      10.0   \n",
       " 4      NaN     NaN       NaN  ...       NaN       NaN       NaN       NaN   \n",
       " \n",
       "    BWG_ID_2  BWG_AN  TDT_ID_1  TDT_ID_2  TDT_ID_3  TDT_AN  \n",
       " 0       NaN     NaN       NaN       NaN       NaN     NaN  \n",
       " 1       NaN     NaN       NaN       NaN       NaN     NaN  \n",
       " 2       NaN     NaN       NaN       NaN       NaN     NaN  \n",
       " 3       NaN     NaN       NaN       NaN       NaN     NaN  \n",
       " 4       NaN     NaN       NaN       NaN       NaN     NaN  \n",
       " \n",
       " [5 rows x 41 columns],\n",
       " 0    25909704\n",
       " 1    25909705\n",
       " 2    25909706\n",
       " 3    25909707\n",
       " 4    25909708\n",
       " Name: PTJ_ID, dtype: int64,\n",
       " PTJ_ID               0\n",
       " VKL_NUMMER           0\n",
       " NUMMER               0\n",
       " DOORRIJDER     1801034\n",
       " OTE_ID          106840\n",
       " OTE_AN         1701118\n",
       " NTT_CODE_V     1801034\n",
       " VTGVERZ        1801034\n",
       " SCHADE         1801034\n",
       " GETRAANH       1801034\n",
       " GEVSTOF        1801034\n",
       " VTGVERL        1801034\n",
       " ANTL_PAS       1801034\n",
       " GEBDAT         1801034\n",
       " GEBJAAR        1801034\n",
       " LEEFTIJD       1801034\n",
       " LKE_ID         1801034\n",
       " LKE_ID_FIJN    1801034\n",
       " NTT_CODE_B     1801034\n",
       " GESLACHT       1801034\n",
       " BLAASTEST      1801034\n",
       " ART8           1801034\n",
       " MEDICGEBR      1801034\n",
       " RIJBEWGEL      1801034\n",
       " RIJBEWCAT      1801034\n",
       " RIJBEWBEG      1801034\n",
       " BROMFCERT      1801034\n",
       " UITGPOS1       1794446\n",
       " UITGPOS2       1801034\n",
       " UITGPOS_AN     1800899\n",
       " VOORGBEW       1795059\n",
       " AGT_TYPE       1795219\n",
       " AGT_ID_1       1795248\n",
       " AGT_ID_2       1801011\n",
       " BWG_ID_1       1795239\n",
       " BWG_ID_2       1800898\n",
       " BWG_AN         1801008\n",
       " TDT_ID_1       1801034\n",
       " TDT_ID_2       1801034\n",
       " TDT_ID_3       1801034\n",
       " TDT_AN         1800410\n",
       " dtype: int64)"
      ]
     },
     "execution_count": 15,
     "metadata": {},
     "output_type": "execute_result"
    }
   ],
   "source": [
    "df_A.shape, df_A.head(), df_A['PTJ_ID'].head(), df_A.isnull().sum()"
   ]
  },
  {
   "cell_type": "code",
   "execution_count": null,
   "id": "f5006557-37b8-4739-b8ce-b95a82116fa3",
   "metadata": {},
   "outputs": [],
   "source": [
    "# df_A = df_A.dropna(subset=['TDT_AN'])\n",
    "# df_A = df_A.dropna(subset=['OTE_AN'] )"
   ]
  },
  {
   "cell_type": "code",
   "execution_count": 23,
   "id": "0502198a-5353-463e-a2a7-65591b43c3f1",
   "metadata": {},
   "outputs": [],
   "source": [
    "# Keywords related to bikes in OTE_AN\n",
    "bike_keywords_ote = [\n",
    "    'FIETS', 'E-BIKE', 'SPEED PEDELEC', 'SPEEDPEDELEC', 'FIETSKAR',\n",
    "    'FIETSAANHANGER', 'DRIEWIELER', 'HANDBIKE', 'FATBIKE', 'FAT BIKE',\n",
    "    'SKELTER', 'BUGGY', 'ELEKTRISCHE-STEP', 'ELEKTRISCHE STEP', 'ELEKTRISCHE DRIEWIELER'\n",
    "]\n",
    "\n",
    "# Keywords indicating cyclist-related circumstances in TDT_AN\n",
    "bike_keywords_tdt = [\n",
    "    'FIETS', 'FIETSPAD', 'EVENWICHT', 'PORTIER OPENEN', 'GEEN VERLICHTING',\n",
    "    'OBSTAKEL', 'SLECHT WEGDEK', 'AUTO OP FIETSPAD', 'ONVOORZICHTIG OP WEG'\n",
    "]\n",
    "\n",
    "\n",
    "bike_accidents = df_A[(df_A['OTE_AN'].isin(bike_keywords_ote)) | (df_A['TDT_AN'].isin(bike_keywords_tdt))]\n",
    "\n",
    "# Filter rows where either column contains one of the keywords (case-insensitive)\n",
    "#bike_accidents = df_A[\n",
    "#    df_A['OTE_AN'].str.contains('|'.join(bike_keywords_ote), case=False, na=False) |\n",
    "#    df_A['TDT_AN'].str.contains('|'.join(bike_keywords_tdt), case=False, na=False)\n",
    "#]\n"
   ]
  },
  {
   "cell_type": "code",
   "execution_count": 25,
   "id": "cda76bb1-15db-44b9-82c5-140fb4652e64",
   "metadata": {
    "scrolled": true
   },
   "outputs": [
    {
     "data": {
      "text/plain": [
       "array([nan, 'FIETSAANHANGER', 'SKELTER', 'DRIEWIELER', 'HANDBIKE',\n",
       "       'ELEKTRISCHE STEP', 'BUGGY', 'ELEKTRISCHE DRIEWIELER',\n",
       "       'SPEED PEDELEC', 'FATBIKE', 'SPEEDPEDELEC', 'FIETSKAR', 'FAT BIKE',\n",
       "       'ELEKTRISCHE-STEP'], dtype=object)"
      ]
     },
     "execution_count": 25,
     "metadata": {},
     "output_type": "execute_result"
    }
   ],
   "source": [
    "bike_accidents['OTE_AN'].unique()"
   ]
  },
  {
   "cell_type": "code",
   "execution_count": 27,
   "id": "58a9345d-1bb3-4f9a-9899-a439d0bf2707",
   "metadata": {},
   "outputs": [
    {
     "data": {
      "text/plain": [
       "array(['PORTIER OPENEN', nan, 'GEEN VERLICHTING', 'SLECHT WEGDEK',\n",
       "       'OBSTAKEL', 'ONVOORZICHTIG OP WEG', 'AUTO OP FIETSPAD'],\n",
       "      dtype=object)"
      ]
     },
     "execution_count": 27,
     "metadata": {},
     "output_type": "execute_result"
    }
   ],
   "source": [
    "bike_accidents['TDT_AN'].unique()\n"
   ]
  },
  {
   "cell_type": "code",
   "execution_count": 29,
   "id": "be08fc00-9f57-435a-92f0-3f83e1a5063a",
   "metadata": {},
   "outputs": [],
   "source": [
    "bike_accidents = bike_accidents[['PTJ_ID', 'VKL_NUMMER', 'NUMMER','OTE_AN','TDT_AN']]\n"
   ]
  },
  {
   "cell_type": "code",
   "execution_count": 31,
   "id": "3c0456d7-f64b-43fb-8512-f52871046bcd",
   "metadata": {},
   "outputs": [
    {
     "data": {
      "text/html": [
       "<div>\n",
       "<style scoped>\n",
       "    .dataframe tbody tr th:only-of-type {\n",
       "        vertical-align: middle;\n",
       "    }\n",
       "\n",
       "    .dataframe tbody tr th {\n",
       "        vertical-align: top;\n",
       "    }\n",
       "\n",
       "    .dataframe thead th {\n",
       "        text-align: right;\n",
       "    }\n",
       "</style>\n",
       "<table border=\"1\" class=\"dataframe\">\n",
       "  <thead>\n",
       "    <tr style=\"text-align: right;\">\n",
       "      <th></th>\n",
       "      <th>PTJ_ID</th>\n",
       "      <th>VKL_NUMMER</th>\n",
       "      <th>NUMMER</th>\n",
       "      <th>OTE_AN</th>\n",
       "      <th>TDT_AN</th>\n",
       "    </tr>\n",
       "  </thead>\n",
       "  <tbody>\n",
       "    <tr>\n",
       "      <th>32328</th>\n",
       "      <td>26052294</td>\n",
       "      <td>20140096088</td>\n",
       "      <td>1</td>\n",
       "      <td>NaN</td>\n",
       "      <td>PORTIER OPENEN</td>\n",
       "    </tr>\n",
       "    <tr>\n",
       "      <th>60168</th>\n",
       "      <td>26084674</td>\n",
       "      <td>20140113085</td>\n",
       "      <td>3</td>\n",
       "      <td>FIETSAANHANGER</td>\n",
       "      <td>NaN</td>\n",
       "    </tr>\n",
       "    <tr>\n",
       "      <th>66861</th>\n",
       "      <td>26093279</td>\n",
       "      <td>20140117493</td>\n",
       "      <td>2</td>\n",
       "      <td>SKELTER</td>\n",
       "      <td>NaN</td>\n",
       "    </tr>\n",
       "    <tr>\n",
       "      <th>74127</th>\n",
       "      <td>26083750</td>\n",
       "      <td>20140112604</td>\n",
       "      <td>1</td>\n",
       "      <td>NaN</td>\n",
       "      <td>PORTIER OPENEN</td>\n",
       "    </tr>\n",
       "    <tr>\n",
       "      <th>77081</th>\n",
       "      <td>26061609</td>\n",
       "      <td>20140101008</td>\n",
       "      <td>3</td>\n",
       "      <td>FIETSAANHANGER</td>\n",
       "      <td>NaN</td>\n",
       "    </tr>\n",
       "  </tbody>\n",
       "</table>\n",
       "</div>"
      ],
      "text/plain": [
       "         PTJ_ID   VKL_NUMMER  NUMMER          OTE_AN          TDT_AN\n",
       "32328  26052294  20140096088       1             NaN  PORTIER OPENEN\n",
       "60168  26084674  20140113085       3  FIETSAANHANGER             NaN\n",
       "66861  26093279  20140117493       2         SKELTER             NaN\n",
       "74127  26083750  20140112604       1             NaN  PORTIER OPENEN\n",
       "77081  26061609  20140101008       3  FIETSAANHANGER             NaN"
      ]
     },
     "execution_count": 31,
     "metadata": {},
     "output_type": "execute_result"
    }
   ],
   "source": [
    "bike_accidents.head()"
   ]
  },
  {
   "cell_type": "code",
   "execution_count": 33,
   "id": "70aeff0b-169a-478e-b816-bf02f224b47e",
   "metadata": {
    "scrolled": true
   },
   "outputs": [
    {
     "data": {
      "text/plain": [
       "PTJ_ID          0\n",
       "VKL_NUMMER      0\n",
       "NUMMER          0\n",
       "OTE_AN          8\n",
       "TDT_AN        387\n",
       "dtype: int64"
      ]
     },
     "execution_count": 33,
     "metadata": {},
     "output_type": "execute_result"
    }
   ],
   "source": [
    "bike_accidents.isnull().sum()"
   ]
  },
  {
   "cell_type": "code",
   "execution_count": 35,
   "id": "2d81d7aa-cafd-4ea1-9101-e4befd3707c9",
   "metadata": {},
   "outputs": [
    {
     "data": {
      "text/plain": [
       "((38887, 42),\n",
       "         wvk_id   gme_naam                                              shape\n",
       " 10   239374087  Amsterdam  LINESTRING (119808.14400000125 487129.29500000...\n",
       " 31   600416574  Amsterdam  LINESTRING (120287.60770000145 485849.17119999...\n",
       " 258  234376081  Amsterdam  LINESTRING (117476.56010000035 488051.62629999...\n",
       " 264  231369048  Amsterdam  LINESTRING (115864.78000000119 484508.03849999...\n",
       " 265  230374012  Amsterdam  LINESTRING (115203.02639999986 487453.90980000...)"
      ]
     },
     "execution_count": 35,
     "metadata": {},
     "output_type": "execute_result"
    }
   ],
   "source": [
    "# Filter the wegvak dataset for rows where the municipality is Amsterdam\n",
    "wegvak_amsterdam = wegvak_df[wegvak_df['gme_naam'].str.lower() == 'amsterdam']\n",
    "\n",
    "# Check how many rows and preview a few\n",
    "wegvak_amsterdam.shape, wegvak_amsterdam[['wvk_id', 'gme_naam', 'shape']].head()\n"
   ]
  },
  {
   "cell_type": "code",
   "execution_count": 37,
   "id": "11b1e60e-1e0d-4bd0-849d-fd0ab094e1da",
   "metadata": {},
   "outputs": [],
   "source": [
    "columns_to_keep = [\n",
    "    'wvk_id',           # Road Segment ID\n",
    "    'wvk_begdat',       # Start Date\n",
    "    'wvk_enddat',       # End Date (optional if not always available)\n",
    "    'wegnummer',        # Road Number\n",
    "    'stt_naam',         # Street Name\n",
    "    'wpsnaam',          # Neighborhood Name\n",
    "    'gme_naam',         # Municipality Name\n",
    "    'rijrichtng',       # Driving Direction\n",
    "    'wegbehsrt',        # Road Type / Category\n",
    "    'shape'             # shape\n",
    "]\n"
   ]
  },
  {
   "cell_type": "code",
   "execution_count": 39,
   "id": "01925f9a-298d-4885-af28-041f0fc681d3",
   "metadata": {},
   "outputs": [],
   "source": [
    "wegvak_amsterdam = wegvak_amsterdam[columns_to_keep]\n",
    "\n",
    "# Drop rows with NaN in critical columns\n",
    "#wegvak_amsterdam = wegvak_amsterdam.dropna(subset=['wvk_id', 'wegnummer', 'stt_naam', 'shape'])\n"
   ]
  },
  {
   "cell_type": "code",
   "execution_count": 41,
   "id": "bdbe4c81-9bf6-46a5-9ffb-37c6a117426c",
   "metadata": {},
   "outputs": [],
   "source": [
    "# Ensure column name consistency for the join\n",
    "bike_data_geo = df_accidents.copy()\n",
    "\n",
    "# Confirm WVK_ID exists in both datasets\n",
    "if 'WVK_ID' in bike_data_geo.columns and 'wvk_id' in wegvak_amsterdam.columns:\n",
    "    # Merge on WVK_ID\n",
    "    bike_amsterdam_geo = bike_data_geo.merge(\n",
    "        wegvak_amsterdam,\n",
    "        left_on='WVK_ID',\n",
    "        right_on='wvk_id',\n",
    "        how='inner'\n",
    "    )\n",
    "    match_found = True\n",
    "else:\n",
    "    bike_amsterdam_geo = pd.DataFrame()\n",
    "    match_found = False\n",
    "\n",
    "# Output results\n",
    "# match_found, bike_amsterdam_geo[['Accident_ID', 'Vehicle_Type', 'Municipality', 'wvk_id', 'shape']].head() if match_found else \"No matches found\"\n"
   ]
  },
  {
   "cell_type": "code",
   "execution_count": 43,
   "id": "0612c0d3-ab6d-4062-827a-fe50222a0272",
   "metadata": {},
   "outputs": [
    {
     "data": {
      "text/plain": [
       "0    LINESTRING (121614.72899999842 487348.85099999...\n",
       "1    LINESTRING (120977 492472.8960000016, 120978.0...\n",
       "2    LINESTRING (117115.5390000008 489289.030900001...\n",
       "3    LINESTRING (118986.91569999978 483450.53599999...\n",
       "4    LINESTRING (121405.81069999933 483628.85469999...\n",
       "Name: shape, dtype: object"
      ]
     },
     "execution_count": 43,
     "metadata": {},
     "output_type": "execute_result"
    }
   ],
   "source": [
    "bike_amsterdam_geo['shape'].head()\n"
   ]
  },
  {
   "cell_type": "code",
   "execution_count": 45,
   "id": "d2843e33-8c3b-4d3a-994e-8a44246c8161",
   "metadata": {},
   "outputs": [
    {
     "data": {
      "text/html": [
       "<div>\n",
       "<style scoped>\n",
       "    .dataframe tbody tr th:only-of-type {\n",
       "        vertical-align: middle;\n",
       "    }\n",
       "\n",
       "    .dataframe tbody tr th {\n",
       "        vertical-align: top;\n",
       "    }\n",
       "\n",
       "    .dataframe thead th {\n",
       "        text-align: right;\n",
       "    }\n",
       "</style>\n",
       "<table border=\"1\" class=\"dataframe\">\n",
       "  <thead>\n",
       "    <tr style=\"text-align: right;\">\n",
       "      <th></th>\n",
       "      <th>PTJ_ID</th>\n",
       "      <th>VKL_NUMMER</th>\n",
       "      <th>NUMMER</th>\n",
       "      <th>OTE_AN</th>\n",
       "      <th>TDT_AN</th>\n",
       "    </tr>\n",
       "  </thead>\n",
       "  <tbody>\n",
       "    <tr>\n",
       "      <th>32328</th>\n",
       "      <td>26052294</td>\n",
       "      <td>20140096088</td>\n",
       "      <td>1</td>\n",
       "      <td>NaN</td>\n",
       "      <td>PORTIER OPENEN</td>\n",
       "    </tr>\n",
       "    <tr>\n",
       "      <th>60168</th>\n",
       "      <td>26084674</td>\n",
       "      <td>20140113085</td>\n",
       "      <td>3</td>\n",
       "      <td>FIETSAANHANGER</td>\n",
       "      <td>NaN</td>\n",
       "    </tr>\n",
       "    <tr>\n",
       "      <th>66861</th>\n",
       "      <td>26093279</td>\n",
       "      <td>20140117493</td>\n",
       "      <td>2</td>\n",
       "      <td>SKELTER</td>\n",
       "      <td>NaN</td>\n",
       "    </tr>\n",
       "    <tr>\n",
       "      <th>74127</th>\n",
       "      <td>26083750</td>\n",
       "      <td>20140112604</td>\n",
       "      <td>1</td>\n",
       "      <td>NaN</td>\n",
       "      <td>PORTIER OPENEN</td>\n",
       "    </tr>\n",
       "    <tr>\n",
       "      <th>77081</th>\n",
       "      <td>26061609</td>\n",
       "      <td>20140101008</td>\n",
       "      <td>3</td>\n",
       "      <td>FIETSAANHANGER</td>\n",
       "      <td>NaN</td>\n",
       "    </tr>\n",
       "  </tbody>\n",
       "</table>\n",
       "</div>"
      ],
      "text/plain": [
       "         PTJ_ID   VKL_NUMMER  NUMMER          OTE_AN          TDT_AN\n",
       "32328  26052294  20140096088       1             NaN  PORTIER OPENEN\n",
       "60168  26084674  20140113085       3  FIETSAANHANGER             NaN\n",
       "66861  26093279  20140117493       2         SKELTER             NaN\n",
       "74127  26083750  20140112604       1             NaN  PORTIER OPENEN\n",
       "77081  26061609  20140101008       3  FIETSAANHANGER             NaN"
      ]
     },
     "execution_count": 45,
     "metadata": {},
     "output_type": "execute_result"
    }
   ],
   "source": [
    "bike_accidents.head()"
   ]
  },
  {
   "cell_type": "code",
   "execution_count": 47,
   "id": "ac2d267f-0d67-49ea-9e9b-d5bf92ef796d",
   "metadata": {},
   "outputs": [],
   "source": [
    "bike_data = bike_accidents.merge(bike_amsterdam_geo, on='VKL_NUMMER', how='outer')\n"
   ]
  },
  {
   "cell_type": "code",
   "execution_count": 49,
   "id": "1f1d864b-2e3d-4af8-b52a-bc5d2b9cb7a4",
   "metadata": {},
   "outputs": [
    {
     "data": {
      "text/plain": [
       "(30149, 27)"
      ]
     },
     "execution_count": 49,
     "metadata": {},
     "output_type": "execute_result"
    }
   ],
   "source": [
    "bike_data.shape"
   ]
  },
  {
   "cell_type": "code",
   "execution_count": 51,
   "id": "b21ffccf-e640-4e1a-8c72-1b80363d6a18",
   "metadata": {},
   "outputs": [
    {
     "data": {
      "text/plain": [
       "PTJ_ID        29754\n",
       "VKL_NUMMER        0\n",
       "NUMMER        29754\n",
       "OTE_AN        29762\n",
       "TDT_AN        30141\n",
       "TIJDSTIP      30149\n",
       "UUR           30149\n",
       "JAAR_VKL        384\n",
       "ANTL_DOD      30149\n",
       "ANTL_GZH      30149\n",
       "ANTL_SEH      30149\n",
       "WVK_ID          384\n",
       "GME_NAAM        384\n",
       "PLT_NAAM        384\n",
       "BZD_VM_AN     30144\n",
       "BZD_IF_AN     28208\n",
       "BZD_TA_AN     30041\n",
       "wvk_id          384\n",
       "wvk_begdat      384\n",
       "wvk_enddat     9558\n",
       "wegnummer     18235\n",
       "stt_naam        384\n",
       "wpsnaam         384\n",
       "gme_naam        384\n",
       "rijrichtng      384\n",
       "wegbehsrt       384\n",
       "shape           384\n",
       "dtype: int64"
      ]
     },
     "execution_count": 51,
     "metadata": {},
     "output_type": "execute_result"
    }
   ],
   "source": [
    "bike_data.isnull().sum()"
   ]
  },
  {
   "cell_type": "code",
   "execution_count": 53,
   "id": "d1565524-6f5b-48c2-a555-b78f58223f9d",
   "metadata": {
    "scrolled": true
   },
   "outputs": [],
   "source": [
    "# Drop 'WVK_ID' (duplicate of 'wvk_id') and 'Unnamed: 0' (auto index column)\n",
    "#bike_data = bike_data.drop(columns=['WVK_ID'])\n",
    "rename_dict = {\n",
    "    'PTJ_ID': 'Participant_ID',\n",
    "    'VKL_NUMMER': 'Accident_ID',\n",
    "    'NUMMER': 'Case_Number',\n",
    "    'OTE_AN': 'Object_Involved',\n",
    "    'TDT_AN': 'Contributing_Factor',\n",
    "    'TIJDSTIP': 'Time',\n",
    "    'UUR': 'Hour',\n",
    "    'JAAR_VKL': 'Accident_Year',\n",
    "    'ANTL_DOD': 'Fatalities',\n",
    "    'ANTL_GZH': 'Severe_Injuries',\n",
    "    'ANTL_SEH': 'Emergency_Room_Injuries',\n",
    "    'WVK_ID': 'RoadSegment_ID',\n",
    "    'GME_NAAM': 'Municipality',\n",
    "    'PLT_NAAM': 'Police_Area',\n",
    "    'BZD_VM_AN': 'Vehicle_Type',\n",
    "    'BZD_IF_AN': 'Object_Collided_With',\n",
    "    'BZD_TA_AN': 'Other_Party_Involved',\n",
    "    'wvk_id': 'RoadSegment_ID',  # duplicate\n",
    "    'wvk_begdat': 'Segment_StartDate',\n",
    "    'wvk_enddat': 'Segment_EndDate',\n",
    "    'wegnummer': 'RoadNumber',\n",
    "    'stt_naam': 'StreetName',\n",
    "    'wpsnaam': 'Neighborhood',\n",
    "    'gme_naam': 'Municipality',  # duplicate\n",
    "    'rijrichtng': 'DrivingDirection',\n",
    "    'wegbehsrt': 'RoadType',\n",
    "    'shape': 'Shape'\n",
    "}\n",
    "\n",
    "# Step 3: Optional rename for clarity (if needed)\n",
    "bike_data = bike_data.rename(columns=rename_dict)"
   ]
  },
  {
   "cell_type": "code",
   "execution_count": 55,
   "id": "58816ee8-dec8-49d1-99ce-f79adfeae066",
   "metadata": {},
   "outputs": [
    {
     "data": {
      "text/plain": [
       "['Participant_ID',\n",
       " 'Accident_ID',\n",
       " 'Case_Number',\n",
       " 'Object_Involved',\n",
       " 'Contributing_Factor',\n",
       " 'Time',\n",
       " 'Hour',\n",
       " 'Accident_Year',\n",
       " 'Fatalities',\n",
       " 'Severe_Injuries',\n",
       " 'Emergency_Room_Injuries',\n",
       " 'RoadSegment_ID',\n",
       " 'Municipality',\n",
       " 'Police_Area',\n",
       " 'Vehicle_Type',\n",
       " 'Object_Collided_With',\n",
       " 'Other_Party_Involved',\n",
       " 'RoadSegment_ID',\n",
       " 'Segment_StartDate',\n",
       " 'Segment_EndDate',\n",
       " 'RoadNumber',\n",
       " 'StreetName',\n",
       " 'Neighborhood',\n",
       " 'Municipality',\n",
       " 'DrivingDirection',\n",
       " 'RoadType',\n",
       " 'Shape']"
      ]
     },
     "execution_count": 55,
     "metadata": {},
     "output_type": "execute_result"
    }
   ],
   "source": [
    "# Display updated column names\n",
    "bike_data.columns.tolist()"
   ]
  },
  {
   "cell_type": "code",
   "execution_count": 57,
   "id": "2cac7967-38b4-46e2-ab01-e57712911960",
   "metadata": {},
   "outputs": [],
   "source": [
    "bike_data.columns = bike_data.columns.str.lower()\n"
   ]
  },
  {
   "cell_type": "code",
   "execution_count": 59,
   "id": "e57f13d4-721f-4143-8030-d5ccb30b8213",
   "metadata": {},
   "outputs": [
    {
     "data": {
      "text/plain": [
       "participant_id             29754\n",
       "accident_id                    0\n",
       "case_number                29754\n",
       "object_involved            29762\n",
       "contributing_factor        30141\n",
       "time                       30149\n",
       "hour                       30149\n",
       "accident_year                384\n",
       "fatalities                 30149\n",
       "severe_injuries            30149\n",
       "emergency_room_injuries    30149\n",
       "roadsegment_id               384\n",
       "municipality                 384\n",
       "police_area                  384\n",
       "vehicle_type               30144\n",
       "object_collided_with       28208\n",
       "other_party_involved       30041\n",
       "roadsegment_id               384\n",
       "segment_startdate            384\n",
       "segment_enddate             9558\n",
       "roadnumber                 18235\n",
       "streetname                   384\n",
       "neighborhood                 384\n",
       "municipality                 384\n",
       "drivingdirection             384\n",
       "roadtype                     384\n",
       "shape                        384\n",
       "dtype: int64"
      ]
     },
     "execution_count": 59,
     "metadata": {},
     "output_type": "execute_result"
    }
   ],
   "source": [
    "bike_data.isnull().sum()"
   ]
  },
  {
   "cell_type": "code",
   "execution_count": 61,
   "id": "dc9ccf2e-7be1-43a1-8814-34905d5d4360",
   "metadata": {},
   "outputs": [],
   "source": [
    "df_ams_cc = bike_data.drop(columns=['contributing_factor','roadtype', 'drivingdirection', 'case_number','object_involved','police_area', 'time', 'hour','other_party_involved','object_collided_with','emergency_room_injuries','severe_injuries','fatalities', 'vehicle_type'], errors='ignore')\n"
   ]
  },
  {
   "cell_type": "code",
   "execution_count": null,
   "id": "4ec56ad7-aa2d-4653-8617-ae77e5b3a411",
   "metadata": {},
   "outputs": [],
   "source": [
    "df_ams_cc.to_csv('../data/cleaned/df_ams_cc.csv')"
   ]
  },
  {
   "cell_type": "code",
   "execution_count": null,
   "id": "ebdae650-f335-4130-a69c-500a0964353f",
   "metadata": {},
   "outputs": [],
   "source": [
    "bike_data.to_csv('../data/cleaned/df_ams_ccenter.csv')"
   ]
  },
  {
   "cell_type": "code",
   "execution_count": null,
   "id": "ce9bf51a-e208-4535-b7f2-c747cedfa0e2",
   "metadata": {},
   "outputs": [],
   "source": []
  },
  {
   "cell_type": "code",
   "execution_count": null,
   "id": "0e3e67da-8e94-455b-b932-7d95a3269c28",
   "metadata": {},
   "outputs": [],
   "source": []
  }
 ],
 "metadata": {
  "kernelspec": {
   "display_name": "venv",
   "language": "python",
   "name": "venv"
  },
  "language_info": {
   "codemirror_mode": {
    "name": "ipython",
    "version": 3
   },
   "file_extension": ".py",
   "mimetype": "text/x-python",
   "name": "python",
   "nbconvert_exporter": "python",
   "pygments_lexer": "ipython3",
   "version": "3.12.7"
  }
 },
 "nbformat": 4,
 "nbformat_minor": 5
}
