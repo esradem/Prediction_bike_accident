{
 "cells": [
  {
   "cell_type": "code",
   "execution_count": 51,
   "id": "387969a9-ea94-480a-861b-9c9ba033cd56",
   "metadata": {},
   "outputs": [],
   "source": [
    "import pandas as pd\n",
    "import numpy as np\n",
    "import geopandas as gpd\n",
    "import seaborn as sns\n",
    "import matplotlib.pyplot as plt\n",
    "from geodatasets import get_path\n",
    "from function_06 import load_data_with_delimiters\n",
    "from shapely.geometry import Point\n",
    "import folium\n",
    "from folium.plugins import HeatMap\n"
   ]
  },
  {
   "cell_type": "code",
   "execution_count": 53,
   "id": "9d28b6ec-3cbb-4069-88b6-1ed3f026ed56",
   "metadata": {},
   "outputs": [],
   "source": [
    "file_info = \"../data/raw/ongevallen.txt\"\n",
    "\n",
    "df_acc2 =pd.read_csv(file_info, low_memory=False)"
   ]
  },
  {
   "cell_type": "code",
   "execution_count": 54,
   "id": "122a234d-e9f8-4ffb-9693-b97fc5ec2eea",
   "metadata": {},
   "outputs": [
    {
     "data": {
      "text/plain": [
       "((1193484, 66),\n",
       " VKL_NUMMER          0\n",
       " REGNUMMER      197529\n",
       " PVOPGEM       1166161\n",
       " DATUM_VKL     1193484\n",
       " DAG_CODE      1193484\n",
       "                ...   \n",
       " DISTRCODE      964941\n",
       " DISTRNAAM      964941\n",
       " DAGTYPE       1193484\n",
       " IND_ALC       1193484\n",
       " WEEKNR        1193484\n",
       " Length: 66, dtype: int64,\n",
       " Index(['VKL_NUMMER', 'REGNUMMER', 'PVOPGEM', 'DATUM_VKL', 'DAG_CODE',\n",
       "        'MND_NUMMER', 'JAAR_VKL', 'TIJDSTIP', 'UUR', 'DDL_ID', 'AP3_CODE',\n",
       "        'AP4_CODE', 'AP5_CODE', 'ANTL_SLA', 'ANTL_DOD', 'ANTL_GZH', 'ANTL_SEH',\n",
       "        'ANTL_GOV', 'ANTL_PTJ', 'ANTL_TDT', 'MNE_CODE', 'AOL_ID', 'NIVEAUKOP',\n",
       "        'WSE_ID', 'WSE_AN', 'BEBKOM', 'MAXSNELHD', 'WVL_ID', 'WVG_ID', 'WVG_AN',\n",
       "        'WDK_ID', 'WDK_AN', 'LGD_ID', 'ZAD_ID', 'WGD_CODE_1', 'WGD_CODE_2',\n",
       "        'BZD_ID_VM1', 'BZD_ID_VM2', 'BZD_ID_VM3', 'BZD_VM_AN', 'BZD_ID_IF1',\n",
       "        'BZD_ID_IF2', 'BZD_ID_IF3', 'BZD_IF_AN', 'BZD_ID_TA1', 'BZD_ID_TA2',\n",
       "        'BZD_ID_TA3', 'BZD_TA_AN', 'JTE_ID', 'WVK_ID', 'HECTOMETER', 'FK_VELD5',\n",
       "        'HUISNUMMER', 'GME_ID', 'GME_NAAM', 'PVE_CODE', 'PVE_NAAM', 'KDD_NAAM',\n",
       "        'PLT_NAAM', 'DIENSTCODE', 'DIENSTNAAM', 'DISTRCODE', 'DISTRNAAM',\n",
       "        'DAGTYPE', 'IND_ALC', 'WEEKNR'],\n",
       "       dtype='object'))"
      ]
     },
     "execution_count": 54,
     "metadata": {},
     "output_type": "execute_result"
    }
   ],
   "source": [
    "df_acc2.shape, df_acc2.isnull().sum(), df_acc2.columns"
   ]
  },
  {
   "cell_type": "code",
   "execution_count": 65,
   "id": "7890d038-306e-4255-a7d4-a7729e300518",
   "metadata": {},
   "outputs": [
    {
     "data": {
      "text/plain": [
       "array([nan])"
      ]
     },
     "execution_count": 65,
     "metadata": {},
     "output_type": "execute_result"
    }
   ],
   "source": [
    "df_acc2['WEEKNR'].unique()"
   ]
  },
  {
   "cell_type": "code",
   "execution_count": 37,
   "id": "bd21f0e1-72df-4276-b189-c994a8e87091",
   "metadata": {},
   "outputs": [],
   "source": [
    "relevant_columns = [\n",
    "    'VKL_NUMMER', 'TIJDSTIP', 'UUR', 'JAAR_VKL',\n",
    "    'ANTL_DOD', 'ANTL_GZH', 'ANTL_SEH',\n",
    "    'WVK_ID', 'GME_NAAM', 'PLT_NAAM',\n",
    "    'BZD_VM_AN', 'BZD_IF_AN', 'BZD_TA_AN'\n",
    "]\n",
    "\n",
    "# Keep only those columns\n",
    "df_acc2 = df_acc2[relevant_columns]\n",
    "\n",
    "# Drop rows where critical identifiers or keys are missing\n",
    "df_acc2 = df_acc2.dropna(subset=['VKL_NUMMER', 'WVK_ID'])\n"
   ]
  },
  {
   "cell_type": "code",
   "execution_count": null,
   "id": "1fffa72c-633b-4038-911f-9e3214842066",
   "metadata": {},
   "outputs": [],
   "source": [
    " df_acc2.shape"
   ]
  },
  {
   "cell_type": "code",
   "execution_count": null,
   "id": "9b2b2c60-617a-439e-ae4f-08b84dd39404",
   "metadata": {},
   "outputs": [],
   "source": [
    "file_info = \"../data/raw/partijen.txt\"\n",
    "\n",
    "df_A=pd.read_csv(file_info, low_memory=False)"
   ]
  },
  {
   "cell_type": "code",
   "execution_count": null,
   "id": "2974b354-ab5e-4c56-97cd-2f1183616dbe",
   "metadata": {},
   "outputs": [],
   "source": [
    "df_A.head()"
   ]
  },
  {
   "cell_type": "code",
   "execution_count": null,
   "id": "b2fa5655-c497-405b-840b-c050b9dd6a14",
   "metadata": {},
   "outputs": [],
   "source": [
    "df_A['PTJ_ID'].head()"
   ]
  },
  {
   "cell_type": "code",
   "execution_count": null,
   "id": "d51d0321-f429-43f1-9353-de0e8d8e098c",
   "metadata": {
    "scrolled": true
   },
   "outputs": [],
   "source": [
    "df_A.isnull().sum()"
   ]
  },
  {
   "cell_type": "code",
   "execution_count": null,
   "id": "f5006557-37b8-4739-b8ce-b95a82116fa3",
   "metadata": {},
   "outputs": [],
   "source": [
    "# df_A = df_A.dropna(subset=['TDT_AN'])\n",
    "# df_A = df_A.dropna(subset=['OTE_AN'] )"
   ]
  },
  {
   "cell_type": "code",
   "execution_count": null,
   "id": "cda76bb1-15db-44b9-82c5-140fb4652e64",
   "metadata": {
    "scrolled": true
   },
   "outputs": [],
   "source": [
    "bike_accidents['OTE_AN'].unique()"
   ]
  },
  {
   "cell_type": "code",
   "execution_count": null,
   "id": "58a9345d-1bb3-4f9a-9899-a439d0bf2707",
   "metadata": {},
   "outputs": [],
   "source": [
    "bike_accidents['TDT_AN'].unique()\n"
   ]
  },
  {
   "cell_type": "code",
   "execution_count": null,
   "id": "0502198a-5353-463e-a2a7-65591b43c3f1",
   "metadata": {},
   "outputs": [],
   "source": [
    "# Keywords related to bikes in OTE_AN\n",
    "bike_keywords_ote = [\n",
    "    'FIETS', 'E-BIKE', 'SPEED PEDELEC', 'SPEEDPEDELEC', 'FIETSKAR',\n",
    "    'FIETSAANHANGER', 'DRIEWIELER', 'HANDBIKE', 'FATBIKE', 'FAT BIKE',\n",
    "    'SKELTER', 'BUGGY', 'ELEKTRISCHE-STEP', 'ELEKTRISCHE STEP', 'ELEKTRISCHE DRIEWIELER'\n",
    "]\n",
    "\n",
    "# Keywords indicating cyclist-related circumstances in TDT_AN\n",
    "bike_keywords_tdt = [\n",
    "    'FIETS', 'FIETSPAD', 'EVENWICHT', 'PORTIER OPENEN', 'GEEN VERLICHTING',\n",
    "    'OBSTAKEL', 'SLECHT WEGDEK', 'AUTO OP FIETSPAD', 'ONVOORZICHTIG OP WEG'\n",
    "]\n",
    "\n",
    "\n",
    "bike_accidents = df_A[(df_A['OTE_AN'].isin(bike_keywords_ote)) | (df_A['TDT_AN'].isin(bike_keywords_tdt))]\n",
    "\n",
    "# Filter rows where either column contains one of the keywords (case-insensitive)\n",
    "#bike_accidents = df_A[\n",
    "#    df_A['OTE_AN'].str.contains('|'.join(bike_keywords_ote), case=False, na=False) |\n",
    "#    df_A['TDT_AN'].str.contains('|'.join(bike_keywords_tdt), case=False, na=False)\n",
    "#]\n"
   ]
  },
  {
   "cell_type": "code",
   "execution_count": null,
   "id": "be08fc00-9f57-435a-92f0-3f83e1a5063a",
   "metadata": {},
   "outputs": [],
   "source": [
    "bike_accidents = bike_accidents[['PTJ_ID', 'VKL_NUMMER', 'NUMMER','OTE_AN','TDT_AN']]\n"
   ]
  },
  {
   "cell_type": "code",
   "execution_count": null,
   "id": "3c0456d7-f64b-43fb-8512-f52871046bcd",
   "metadata": {},
   "outputs": [],
   "source": [
    "bike_accidents.head()"
   ]
  },
  {
   "cell_type": "code",
   "execution_count": null,
   "id": "70aeff0b-169a-478e-b816-bf02f224b47e",
   "metadata": {
    "scrolled": true
   },
   "outputs": [],
   "source": [
    "bike_accidents.isnull().sum()"
   ]
  },
  {
   "cell_type": "code",
   "execution_count": null,
   "id": "7830ce58-1437-4708-921d-aaebce029363",
   "metadata": {},
   "outputs": [],
   "source": [
    "file_info = \"../data/raw/wegvakgeografie_01012024.csv\"\n",
    "\n",
    "wegvak_df=pd.read_csv(file_info, low_memory=False)"
   ]
  },
  {
   "cell_type": "code",
   "execution_count": null,
   "id": "2d81d7aa-cafd-4ea1-9101-e4befd3707c9",
   "metadata": {},
   "outputs": [],
   "source": [
    "# Filter the wegvak dataset for rows where the municipality is Amsterdam\n",
    "wegvak_amsterdam = wegvak_df[wegvak_df['gme_naam'].str.lower() == 'amsterdam']\n",
    "\n",
    "# Check how many rows and preview a few\n",
    "wegvak_amsterdam.shape, wegvak_amsterdam[['wvk_id', 'gme_naam', 'shape']].head()\n"
   ]
  },
  {
   "cell_type": "code",
   "execution_count": null,
   "id": "11b1e60e-1e0d-4bd0-849d-fd0ab094e1da",
   "metadata": {},
   "outputs": [],
   "source": [
    "columns_to_keep = [\n",
    "    'wvk_id',           # Road Segment ID\n",
    "    'wvk_begdat',       # Start Date\n",
    "    'wvk_enddat',       # End Date (optional if not always available)\n",
    "    'wegnummer',        # Road Number\n",
    "    'stt_naam',         # Street Name\n",
    "    'wpsnaam',          # Neighborhood Name\n",
    "    'gme_naam',         # Municipality Name\n",
    "    'rijrichtng',       # Driving Direction\n",
    "    'wegbehsrt',        # Road Type / Category\n",
    "    'shape'             # shape\n",
    "]\n"
   ]
  },
  {
   "cell_type": "code",
   "execution_count": null,
   "id": "01925f9a-298d-4885-af28-041f0fc681d3",
   "metadata": {},
   "outputs": [],
   "source": [
    "wegvak_amsterdam = wegvak_amsterdam[columns_to_keep]\n",
    "\n",
    "# Drop rows with NaN in critical columns\n",
    "#wegvak_amsterdam = wegvak_amsterdam.dropna(subset=['wvk_id', 'wegnummer', 'stt_naam', 'shape'])\n"
   ]
  },
  {
   "cell_type": "code",
   "execution_count": null,
   "id": "bdbe4c81-9bf6-46a5-9ffb-37c6a117426c",
   "metadata": {},
   "outputs": [],
   "source": [
    "# Ensure column name consistency for the join\n",
    "bike_data_geo = df_acc2.copy()\n",
    "\n",
    "# Confirm WVK_ID exists in both datasets\n",
    "if 'WVK_ID' in bike_data_geo.columns and 'wvk_id' in wegvak_amsterdam.columns:\n",
    "    # Merge on WVK_ID\n",
    "    bike_amsterdam_geo = bike_data_geo.merge(\n",
    "        wegvak_amsterdam,\n",
    "        left_on='WVK_ID',\n",
    "        right_on='wvk_id',\n",
    "        how='inner'\n",
    "    )\n",
    "    match_found = True\n",
    "else:\n",
    "    bike_amsterdam_geo = pd.DataFrame()\n",
    "    match_found = False\n",
    "\n",
    "# Output results\n",
    "# match_found, bike_amsterdam_geo[['Accident_ID', 'Vehicle_Type', 'Municipality', 'wvk_id', 'shape']].head() if match_found else \"No matches found\"\n"
   ]
  },
  {
   "cell_type": "code",
   "execution_count": null,
   "id": "0612c0d3-ab6d-4062-827a-fe50222a0272",
   "metadata": {},
   "outputs": [],
   "source": [
    "bike_amsterdam_geo['shape'].head()\n"
   ]
  },
  {
   "cell_type": "code",
   "execution_count": null,
   "id": "d2843e33-8c3b-4d3a-994e-8a44246c8161",
   "metadata": {},
   "outputs": [],
   "source": [
    "bike_accidents.head()"
   ]
  },
  {
   "cell_type": "code",
   "execution_count": null,
   "id": "ac2d267f-0d67-49ea-9e9b-d5bf92ef796d",
   "metadata": {},
   "outputs": [],
   "source": [
    "bike_data = bike_accidents.merge(bike_amsterdam_geo, on='VKL_NUMMER', how='outer')\n"
   ]
  },
  {
   "cell_type": "code",
   "execution_count": null,
   "id": "1f1d864b-2e3d-4af8-b52a-bc5d2b9cb7a4",
   "metadata": {},
   "outputs": [],
   "source": [
    "bike_data.shape"
   ]
  },
  {
   "cell_type": "code",
   "execution_count": null,
   "id": "e3bef0d1-ef2e-47ff-b3ba-04f1d62f9d2f",
   "metadata": {},
   "outputs": [],
   "source": []
  },
  {
   "cell_type": "code",
   "execution_count": null,
   "id": "b21ffccf-e640-4e1a-8c72-1b80363d6a18",
   "metadata": {},
   "outputs": [],
   "source": [
    "bike_data.isnull().sum()"
   ]
  },
  {
   "cell_type": "code",
   "execution_count": null,
   "id": "d1565524-6f5b-48c2-a555-b78f58223f9d",
   "metadata": {
    "scrolled": true
   },
   "outputs": [],
   "source": [
    "# Drop 'WVK_ID' (duplicate of 'wvk_id') and 'Unnamed: 0' (auto index column)\n",
    "#bike_data = bike_data.drop(columns=['WVK_ID'])\n",
    "rename_dict = {\n",
    "    'PTJ_ID': 'Participant_ID',\n",
    "    'VKL_NUMMER': 'Accident_ID',\n",
    "    'NUMMER': 'Case_Number',\n",
    "    'OTE_AN': 'Object_Involved',\n",
    "    'TDT_AN': 'Contributing_Factor',\n",
    "    'TIJDSTIP': 'Time',\n",
    "    'UUR': 'Hour',\n",
    "    'JAAR_VKL': 'Accident_Year',\n",
    "    'ANTL_DOD': 'Fatalities',\n",
    "    'ANTL_GZH': 'Severe_Injuries',\n",
    "    'ANTL_SEH': 'Emergency_Room_Injuries',\n",
    "    'WVK_ID': 'RoadSegment_ID',\n",
    "    'GME_NAAM': 'Municipality',\n",
    "    'PLT_NAAM': 'Police_Area',\n",
    "    'BZD_VM_AN': 'Vehicle_Type',\n",
    "    'BZD_IF_AN': 'Object_Collided_With',\n",
    "    'BZD_TA_AN': 'Other_Party_Involved',\n",
    "    'wvk_id': 'RoadSegment_ID',  # duplicate\n",
    "    'wvk_begdat': 'Segment_StartDate',\n",
    "    'wvk_enddat': 'Segment_EndDate',\n",
    "    'wegnummer': 'RoadNumber',\n",
    "    'stt_naam': 'StreetName',\n",
    "    'wpsnaam': 'Neighborhood',\n",
    "    'gme_naam': 'Municipality',  # duplicate\n",
    "    'rijrichtng': 'DrivingDirection',\n",
    "    'wegbehsrt': 'RoadType',\n",
    "    'shape': 'Shape'\n",
    "}\n",
    "\n",
    "# Step 3: Optional rename for clarity (if needed)\n",
    "bike_data = bike_data.rename(columns=rename_dict)"
   ]
  },
  {
   "cell_type": "code",
   "execution_count": null,
   "id": "58816ee8-dec8-49d1-99ce-f79adfeae066",
   "metadata": {},
   "outputs": [],
   "source": [
    "# Display updated column names\n",
    "bike_data.columns.tolist()"
   ]
  },
  {
   "cell_type": "code",
   "execution_count": 46,
   "id": "2cac7967-38b4-46e2-ab01-e57712911960",
   "metadata": {},
   "outputs": [
    {
     "ename": "NameError",
     "evalue": "name 'bike_data' is not defined",
     "output_type": "error",
     "traceback": [
      "\u001b[31m---------------------------------------------------------------------------\u001b[39m",
      "\u001b[31mNameError\u001b[39m                                 Traceback (most recent call last)",
      "\u001b[36mCell\u001b[39m\u001b[36m \u001b[39m\u001b[32mIn[46]\u001b[39m\u001b[32m, line 1\u001b[39m\n\u001b[32m----> \u001b[39m\u001b[32m1\u001b[39m bike_data.columns = \u001b[43mbike_data\u001b[49m.columns.str.lower()\n",
      "\u001b[31mNameError\u001b[39m: name 'bike_data' is not defined"
     ]
    }
   ],
   "source": [
    "bike_data.columns = bike_data.columns.str.lower()\n"
   ]
  },
  {
   "cell_type": "code",
   "execution_count": null,
   "id": "7a7dc5e3-d1f9-403e-a40b-8e6f51ae5be0",
   "metadata": {},
   "outputs": [],
   "source": [
    "bike_data['longitude'].head()"
   ]
  },
  {
   "cell_type": "code",
   "execution_count": null,
   "id": "2f4b3028-395d-4561-b010-840731716245",
   "metadata": {},
   "outputs": [],
   "source": [
    "bike_data['latitude'].head()"
   ]
  },
  {
   "cell_type": "code",
   "execution_count": null,
   "id": "e57f13d4-721f-4143-8030-d5ccb30b8213",
   "metadata": {},
   "outputs": [],
   "source": [
    "bike_data.isnull().sum()"
   ]
  },
  {
   "cell_type": "code",
   "execution_count": null,
   "id": "dc9ccf2e-7be1-43a1-8814-34905d5d4360",
   "metadata": {},
   "outputs": [],
   "source": [
    "df_ams_cc = bike_data.drop(columns=['contributing_factor','roadtype', 'drivingdirection', 'case_number','object_involved','police_area', 'time', 'hour','other_party_involved','object_collided_with','emergency_room_injuries','severe_injuries','fatalities', 'vehicle_type'], errors='ignore')\n"
   ]
  },
  {
   "cell_type": "code",
   "execution_count": null,
   "id": "4ec56ad7-aa2d-4653-8617-ae77e5b3a411",
   "metadata": {},
   "outputs": [],
   "source": [
    "df_ams_cc.to_csv('../data/cleaned/df_ams_cc.csv')"
   ]
  },
  {
   "cell_type": "code",
   "execution_count": null,
   "id": "ebdae650-f335-4130-a69c-500a0964353f",
   "metadata": {},
   "outputs": [],
   "source": [
    "bike_data.to_csv('../data/cleaned/df_ams_ccenter.csv')"
   ]
  },
  {
   "cell_type": "code",
   "execution_count": 42,
   "id": "ce9bf51a-e208-4535-b7f2-c747cedfa0e2",
   "metadata": {},
   "outputs": [],
   "source": []
  },
  {
   "cell_type": "code",
   "execution_count": null,
   "id": "0e3e67da-8e94-455b-b932-7d95a3269c28",
   "metadata": {},
   "outputs": [],
   "source": []
  }
 ],
 "metadata": {
  "kernelspec": {
   "display_name": "venv",
   "language": "python",
   "name": "venv"
  },
  "language_info": {
   "codemirror_mode": {
    "name": "ipython",
    "version": 3
   },
   "file_extension": ".py",
   "mimetype": "text/x-python",
   "name": "python",
   "nbconvert_exporter": "python",
   "pygments_lexer": "ipython3",
   "version": "3.12.7"
  }
 },
 "nbformat": 4,
 "nbformat_minor": 5
}
